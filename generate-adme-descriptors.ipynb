{
 "cells": [
  {
   "cell_type": "code",
   "execution_count": null,
   "id": "e4d4f775",
   "metadata": {},
   "outputs": [],
   "source": [
    "from rdkit import Chem\n",
    "from rdkit.Chem import Descriptors\n",
    "\n",
    "import pandas as pd\n",
    "\n",
    "import warnings\n",
    "warnings.filterwarnings('ignore')"
   ]
  },
  {
   "cell_type": "code",
   "execution_count": 2,
   "id": "5af7668c",
   "metadata": {},
   "outputs": [],
   "source": [
    "# import filtered enamine compounds and get mol objects\n",
    "\n",
    "supplier = Chem.SDMolSupplier('filtered_enamine_primary_amines.sdf')\n",
    "mols = [mol for mol in supplier if mol is not None]"
   ]
  },
  {
   "cell_type": "code",
   "execution_count": 3,
   "id": "3a6a4b51",
   "metadata": {},
   "outputs": [],
   "source": [
    "# generate a dataframe with the fingerprints and catalog number and smiles\n",
    "\n",
    "catalog_ids = [mol.GetProp('Catalog_ID') for mol in mols]\n",
    "smiles = [Chem.MolToSmiles(mol) for mol in mols]\n",
    "\n",
    "df = pd.DataFrame({\n",
    "    'Catalog_ID': catalog_ids,\n",
    "    'SMILES': smiles,\n",
    "})"
   ]
  },
  {
   "cell_type": "code",
   "execution_count": 4,
   "id": "31cf444d",
   "metadata": {},
   "outputs": [],
   "source": [
    "# calculate rdkit 2d descriptors for the molecules\n",
    "\n",
    "descriptors_dict = {}\n",
    "\n",
    "for mol in mols:\n",
    "    index = mol.GetProp('Catalog_ID')\n",
    "    descriptors = Descriptors.CalcMolDescriptors(mol)\n",
    "    descriptors_dict[index] = descriptors"
   ]
  },
  {
   "cell_type": "code",
   "execution_count": 5,
   "id": "a5678518",
   "metadata": {},
   "outputs": [],
   "source": [
    "# add the descriptors to the dataframe\n",
    "# Convert descriptors_dict to DataFrame and merge with df\n",
    "desc_df = pd.DataFrame.from_dict(descriptors_dict, orient='index')\n",
    "desc_df.index.name = 'Catalog_ID'\n",
    "desc_df.reset_index(inplace=True)\n",
    "df = df.merge(desc_df, on='Catalog_ID', how='left')"
   ]
  },
  {
   "cell_type": "code",
   "execution_count": 6,
   "id": "ff9d8972",
   "metadata": {},
   "outputs": [],
   "source": [
    "# remove all features with \"fr\" at the start of their name (these are fragment counts)\n",
    "df = df.loc[:, ~df.columns.str.startswith('fr')]\n",
    "\n",
    "# remove all features with \"Num\" in their name (these are counts of various properties)\n",
    "df = df.loc[:, ~df.columns.str.contains('Num')]\n",
    "\n",
    "# remove all features with Count in their name (these are counts of various properties)\n",
    "df = df.loc[:, ~df.columns.str.contains('Count')]"
   ]
  },
  {
   "cell_type": "code",
   "execution_count": 7,
   "id": "4a1e244c",
   "metadata": {},
   "outputs": [],
   "source": [
    "df.to_csv('enamine_primary_amines_with_descriptors.csv', index=False)"
   ]
  },
  {
   "cell_type": "code",
   "execution_count": null,
   "id": "5e6778a4",
   "metadata": {},
   "outputs": [],
   "source": []
  }
 ],
 "metadata": {
  "kernelspec": {
   "display_name": "general",
   "language": "python",
   "name": "python3"
  },
  "language_info": {
   "codemirror_mode": {
    "name": "ipython",
    "version": 3
   },
   "file_extension": ".py",
   "mimetype": "text/x-python",
   "name": "python",
   "nbconvert_exporter": "python",
   "pygments_lexer": "ipython3",
   "version": "3.13.6"
  }
 },
 "nbformat": 4,
 "nbformat_minor": 5
}
