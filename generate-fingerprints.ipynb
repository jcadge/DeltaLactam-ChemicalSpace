{
 "cells": [
  {
   "cell_type": "code",
   "execution_count": 1,
   "id": "82e268e6",
   "metadata": {},
   "outputs": [],
   "source": [
    "from rdkit import Chem\n",
    "from rdkit.Chem import rdFingerprintGenerator\n",
    "import pandas as pd\n",
    "import numpy as np\n",
    "\n",
    "import warnings\n",
    "warnings.filterwarnings('ignore')"
   ]
  },
  {
   "cell_type": "code",
   "execution_count": 2,
   "id": "1f81a303",
   "metadata": {},
   "outputs": [],
   "source": [
    "# import filtered enamine compounds and get mol objects\n",
    "\n",
    "supplier = Chem.SDMolSupplier('filtered_enamine_primary_amines.sdf')\n",
    "mols = [mol for mol in supplier if mol is not None]"
   ]
  },
  {
   "cell_type": "code",
   "execution_count": 3,
   "id": "8c28765c",
   "metadata": {},
   "outputs": [],
   "source": [
    "# generate a dataframe with the fingerprints and catalog number and smiles\n",
    "\n",
    "catalog_ids = [mol.GetProp('Catalog_ID') for mol in mols]\n",
    "smiles = [Chem.MolToSmiles(mol) for mol in mols]\n",
    "\n",
    "mfpgen = rdFingerprintGenerator.GetMorganGenerator(radius=2, fpSize=1024)\n",
    "fingerprints = [mfpgen.GetFingerprint(mol) for mol in mols]\n",
    "fingerprint_array = np.array([np.array(fp) for fp in fingerprints])"
   ]
  },
  {
   "cell_type": "code",
   "execution_count": 4,
   "id": "fa8e0e75",
   "metadata": {},
   "outputs": [],
   "source": [
    "# convert to dataframe\n",
    "\n",
    "df_1024bit = pd.DataFrame({\n",
    "    'Catalog_ID': catalog_ids,\n",
    "    'SMILES': smiles,\n",
    "})\n",
    "\n",
    "for i in range(fingerprint_array.shape[1]):\n",
    "    df_1024bit[f'{i}'] = fingerprint_array[:, i]"
   ]
  },
  {
   "cell_type": "code",
   "execution_count": 5,
   "id": "82e4a50b",
   "metadata": {},
   "outputs": [],
   "source": [
    "df_1024bit.to_csv('enamine_primary_amines_1024bit_fingerprints.csv', index=False)"
   ]
  },
  {
   "cell_type": "code",
   "execution_count": 6,
   "id": "8f374941",
   "metadata": {},
   "outputs": [],
   "source": [
    "# now do the same for 2048 bit fingerprints\n",
    "\n",
    "catalog_ids = [mol.GetProp('Catalog_ID') for mol in mols]\n",
    "smiles = [Chem.MolToSmiles(mol) for mol in mols]\n",
    "\n",
    "mfpgen = rdFingerprintGenerator.GetMorganGenerator(radius=2, fpSize=2048)\n",
    "fingerprints = [mfpgen.GetFingerprint(mol) for mol in mols]\n",
    "fingerprint_array = np.array([np.array(fp) for fp in fingerprints])"
   ]
  },
  {
   "cell_type": "code",
   "execution_count": 7,
   "id": "cf0e913b",
   "metadata": {},
   "outputs": [],
   "source": [
    "# convert to dataframe\n",
    "\n",
    "df_2048bit = pd.DataFrame({\n",
    "    'Catalog_ID': catalog_ids,\n",
    "    'SMILES': smiles,\n",
    "})\n",
    "\n",
    "for i in range(fingerprint_array.shape[1]):\n",
    "    df_2048bit[f'{i}'] = fingerprint_array[:, i]"
   ]
  },
  {
   "cell_type": "code",
   "execution_count": 8,
   "id": "8135040f",
   "metadata": {},
   "outputs": [],
   "source": [
    "df_2048bit.to_csv('enamine_primary_amines_2048bit_fingerprints.csv', index=False)"
   ]
  }
 ],
 "metadata": {
  "kernelspec": {
   "display_name": "general",
   "language": "python",
   "name": "python3"
  },
  "language_info": {
   "codemirror_mode": {
    "name": "ipython",
    "version": 3
   },
   "file_extension": ".py",
   "mimetype": "text/x-python",
   "name": "python",
   "nbconvert_exporter": "python",
   "pygments_lexer": "ipython3",
   "version": "3.13.6"
  }
 },
 "nbformat": 4,
 "nbformat_minor": 5
}
